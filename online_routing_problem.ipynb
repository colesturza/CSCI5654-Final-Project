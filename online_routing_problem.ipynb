{
 "cells": [
  {
   "cell_type": "code",
   "execution_count": 18,
   "id": "8121dcba-a23a-4c51-a546-2936d094b1c4",
   "metadata": {},
   "outputs": [],
   "source": [
    "import networkx as nx\n",
    "G = nx.petersen_graph()"
   ]
  },
  {
   "cell_type": "code",
   "execution_count": 19,
   "id": "1d167dfb-8244-4221-b11c-4ae5473ef1aa",
   "metadata": {},
   "outputs": [],
   "source": [
    "import matplotlib.pyplot as plt"
   ]
  },
  {
   "cell_type": "code",
   "execution_count": 20,
   "id": "56b1b8b5-6c55-42d3-8ae4-2272af9e9139",
   "metadata": {},
   "outputs": [
    {
     "data": {
      "image/png": "[encoded data removed]",
      "text/plain": [
       "<Figure size 432x288 with 1 Axes>"
      ]
     },
     "metadata": {},
     "output_type": "display_data"
    }
   ],
   "source": [
    "nx.draw(G, with_labels=True, font_weight='bold')"
   ]
  },
  {
   "cell_type": "code",
   "execution_count": 26,
   "id": "e7e8c633-7e58-4e90-970c-ca0adfafd389",
   "metadata": {},
   "outputs": [
    {
     "data": {
      "text/plain": [
       "EdgeView([(0, 1), (0, 4), (0, 5), (1, 2), (1, 6), (2, 3), (2, 7), (3, 4), (3, 8), (4, 9), (5, 7), (5, 8), (6, 8), (6, 9), (7, 9)])"
      ]
     },
     "execution_count": 26,
     "metadata": {},
     "output_type": "execute_result"
    }
   ],
   "source": [
    "edges = G.edges\n",
    "\n",
    "edges"
   ]
  },
  {
   "cell_type": "code",
   "execution_count": 28,
   "id": "5e2da824-cbdc-416b-86bb-b4f4cf57b050",
   "metadata": {},
   "outputs": [],
   "source": [
    "import numpy as np"
   ]
  },
  {
   "cell_type": "code",
   "execution_count": 174,
   "id": "409aa050-5cf9-4ce0-9db5-68a2f7cd12e0",
   "metadata": {},
   "outputs": [],
   "source": [
    "for source, target in edges:\n",
    "    # print(source, target, np.random.randint(low=100, high=1000))\n",
    "    G[source][target][\"capacity\"] = np.random.randint(low=25, high=100)"
   ]
  },
  {
   "cell_type": "code",
   "execution_count": 175,
   "id": "c5f6195e-a78a-411c-9498-8cd22db28479",
   "metadata": {},
   "outputs": [
    {
     "data": {
      "text/plain": [
       "{(0, 1): 68,\n",
       " (0, 4): 31,\n",
       " (0, 5): 58,\n",
       " (1, 2): 66,\n",
       " (1, 6): 93,\n",
       " (2, 3): 66,\n",
       " (2, 7): 32,\n",
       " (3, 4): 32,\n",
       " (3, 8): 79,\n",
       " (4, 9): 70,\n",
       " (5, 7): 46,\n",
       " (5, 8): 33,\n",
       " (6, 8): 30,\n",
       " (6, 9): 90,\n",
       " (7, 9): 36}"
      ]
     },
     "execution_count": 175,
     "metadata": {},
     "output_type": "execute_result"
    }
   ],
   "source": [
    "nx.get_edge_attributes(G, \"capacity\")"
   ]
  },
  {
   "cell_type": "code",
   "execution_count": 176,
   "id": "41f0c6db-2d57-4d97-9ea4-c3b9110e275b",
   "metadata": {},
   "outputs": [],
   "source": [
    "edge_capacities = [capacity for capacity in nx.get_edge_attributes(G, \"capacity\").values()] \n",
    "edge_to_idx_map = {edge: i for i, edge in enumerate(edges)}\n",
    "idx_to_edge_map = {i: edge for i, edge in enumerate(edges)}"
   ]
  },
  {
   "cell_type": "code",
   "execution_count": 177,
   "id": "225886ee-fc92-412f-b3af-761463a07140",
   "metadata": {},
   "outputs": [
    {
     "data": {
      "text/plain": [
       "{(0, 1): 0,\n",
       " (0, 4): 1,\n",
       " (0, 5): 2,\n",
       " (1, 2): 3,\n",
       " (1, 6): 4,\n",
       " (2, 3): 5,\n",
       " (2, 7): 6,\n",
       " (3, 4): 7,\n",
       " (3, 8): 8,\n",
       " (4, 9): 9,\n",
       " (5, 7): 10,\n",
       " (5, 8): 11,\n",
       " (6, 8): 12,\n",
       " (6, 9): 13,\n",
       " (7, 9): 14}"
      ]
     },
     "execution_count": 177,
     "metadata": {},
     "output_type": "execute_result"
    }
   ],
   "source": [
    "edge_to_idx_map"
   ]
  },
  {
   "cell_type": "code",
   "execution_count": 178,
   "id": "7f6f5cfa-481f-44f0-89a0-e18b3899b728",
   "metadata": {},
   "outputs": [
    {
     "data": {
      "text/plain": [
       "[[3, 8, 5], [3, 2, 7, 5], [3, 4, 0, 5], [3, 2, 1, 0, 5], [3, 4, 9, 7, 5]]"
      ]
     },
     "execution_count": 178,
     "metadata": {},
     "output_type": "execute_result"
    }
   ],
   "source": [
    "list(nx.shortest_simple_paths(G, 3, 5))[:5]"
   ]
  },
  {
   "cell_type": "code",
   "execution_count": 179,
   "id": "c83dafbf-8a8b-42b9-8217-f5c1ca1662e3",
   "metadata": {},
   "outputs": [],
   "source": [
    "import random"
   ]
  },
  {
   "cell_type": "code",
   "execution_count": 283,
   "id": "4679f439-f549-4e9e-8129-8e50062fc5dd",
   "metadata": {},
   "outputs": [],
   "source": [
    "N = 100\n",
    "\n",
    "requests = []\n",
    "for i in range(N):\n",
    "    zero_to_nine = list(range(10))\n",
    "    random.shuffle(zero_to_nine)\n",
    "    source, target = zero_to_nine[:2]\n",
    "    paths = list(nx.shortest_simple_paths(G, source, target))\n",
    "    idx = np.random.randint(low=1, high=min(5, len(paths)))\n",
    "    path = paths[idx]\n",
    "    edges_taken = [0] * len(edges)\n",
    "    capacity_needed = np.random.randint(low=1, high=5)\n",
    "    for j in range(len(path) - 1):\n",
    "        start, end = min(path[j], path[j+1]), max(path[j], path[j+1])\n",
    "        edges_taken[edge_to_idx_map[(start, end)]] = capacity_needed\n",
    "    requests.append(edges_taken)"
   ]
  },
  {
   "cell_type": "code",
   "execution_count": 284,
   "id": "99420df2-b906-4ecc-896a-4c0cc5148090",
   "metadata": {},
   "outputs": [],
   "source": [
    "bids = np.random.randint(low=100, high=250, size=N) + np.floor(np.random.normal(0, 25, size=N))"
   ]
  },
  {
   "cell_type": "code",
   "execution_count": 285,
   "id": "5050a461-1f86-4d18-97e5-086986788cfc",
   "metadata": {},
   "outputs": [],
   "source": [
    "import cvxpy as cp"
   ]
  },
  {
   "cell_type": "code",
   "execution_count": 286,
   "id": "5f8e254e-c3e9-4b28-8e27-42a71642f0b5",
   "metadata": {},
   "outputs": [
    {
     "data": {
      "text/plain": [
       "13138.0"
      ]
     },
     "execution_count": 286,
     "metadata": {},
     "output_type": "execute_result"
    }
   ],
   "source": [
    "# problem data\n",
    "\n",
    "cvx_b = np.c_[edge_capacities]\n",
    "cvx_pi = np.c_[bids]\n",
    "cvx_a = np.array(requests).T\n",
    "\n",
    "# construct the problem\n",
    "x = cp.Variable((N, 1), boolean=True)\n",
    "objective = cp.Maximize(cvx_pi.T @ x)\n",
    "constraints = [cvx_a @ x <= cvx_b]\n",
    "prob = cp.Problem(objective, constraints)\n",
    "prob.solve()\n",
    "prob.value"
   ]
  },
  {
   "cell_type": "code",
   "execution_count": 287,
   "id": "b792357d-c728-4bbc-9030-93d271be3efb",
   "metadata": {},
   "outputs": [],
   "source": [
    "from copy import deepcopy"
   ]
  },
  {
   "cell_type": "code",
   "execution_count": 288,
   "id": "8f8a6ce8-958f-410e-b406-d8358add293c",
   "metadata": {},
   "outputs": [],
   "source": [
    "class DynamicLearner:\n",
    "\n",
    "    def __init__(self, epsilon, n, b):\n",
    "        self.epsilon = epsilon\n",
    "        self.n = n\n",
    "        self.b = deepcopy(b)\n",
    "        self.pi = []\n",
    "        self.a = []\n",
    "        self.x = []\n",
    "        self.t = 0\n",
    "        self.s = int(epsilon * n)\n",
    "        self.p_hat = None\n",
    "        self.allocation_check_rhs = deepcopy(b)\n",
    "        self.r = np.floor(np.log2(self.s / self.epsilon / self.n)) - 1\n",
    "\n",
    "    def process_input(self, new_pi, new_a):\n",
    "        # increment t and add new pi and a values\n",
    "        self.t += 1\n",
    "        self.pi.append(new_pi)\n",
    "        self.a.append(new_a)\n",
    "        \n",
    "        # print(self.allocation_check_rhs)\n",
    "\n",
    "        if self.t <= self.s:\n",
    "            new_x = 0\n",
    "        else:        \n",
    "            \n",
    "            # check if we need to update p_hat\n",
    "            if 2 ** (self.r + 1) * self.epsilon * self.n < self.t:\n",
    "                self.r += 1\n",
    "                # solve LP to find p_hat using learning phase data           \n",
    "                # problem data\n",
    "                cvx_a = np.array(self.a).T\n",
    "                cvx_pi = np.c_[self.pi]\n",
    "                cvx_b = np.c_[self.b]\n",
    "\n",
    "                # construct the problem\n",
    "                p = cp.Variable((len(self.b), 1))\n",
    "                y = cp.Variable((self.t, 1))\n",
    "                const = (1 - self.epsilon * np.sqrt(self.n  / self.t)) * self.t / self.n \n",
    "                objective = cp.Minimize(const * cvx_b.T @ p + cp.sum(y))\n",
    "                constraints = [cvx_a.T @ p + y >= cvx_pi, p >= 0, y >= 0]\n",
    "                prob = cp.Problem(objective, constraints)\n",
    "                prob.solve()\n",
    "                self.p_hat = p.value.T.tolist()[0]  # save p\n",
    "\n",
    "            # determine allocation amount for the current bid\n",
    "            allocation = 0\n",
    "            rhs = 0\n",
    "            for i in range(len(self.b)):\n",
    "                rhs += self.p_hat[i] * self.a[-1][i]\n",
    "            if self.pi[-1] > rhs:\n",
    "                allocation = 1\n",
    "\n",
    "            # determine whether to allocate towards the new bid \n",
    "            for i in range(len(self.b)):\n",
    "                if allocation * self.a[-1][i] > self.allocation_check_rhs[i]:\n",
    "                    new_x = 0\n",
    "                    break\n",
    "            else:\n",
    "                new_x = allocation\n",
    "            \n",
    "        # update choices made\n",
    "        self.x.append(new_x)\n",
    "        for i in range(len(self.b)):\n",
    "            self.allocation_check_rhs[i] -= self.a[-1][i] * self.x[-1]\n",
    "\n",
    "        return new_x\n",
    "    \n",
    "    def get_choices(self):\n",
    "        return self.x"
   ]
  },
  {
   "cell_type": "code",
   "execution_count": 289,
   "id": "83a9fe05-052a-41cc-ae28-1b8ede1f995d",
   "metadata": {},
   "outputs": [
    {
     "data": {
      "text/plain": [
       "0.12470650022834526"
      ]
     },
     "execution_count": 289,
     "metadata": {},
     "output_type": "execute_result"
    }
   ],
   "source": [
    "rl_dynamic = []\n",
    "\n",
    "for _ in range(500):\n",
    "        \n",
    "    idx = np.random.permutation(N)\n",
    "    \n",
    "    random.shuffle(requests)\n",
    "    random.shuffle(bids)\n",
    "\n",
    "    alg = DynamicLearner(0.01, N, edge_capacities)\n",
    "    for i in range(N):\n",
    "        alg.process_input(bids[i], requests[i])\n",
    "    rl_dynamic.append(1 - np.array(bids).dot(alg.get_choices()) / prob.value)\n",
    "\n",
    "np.average(rl_dynamic)"
   ]
  },
  {
   "cell_type": "code",
   "execution_count": 290,
   "id": "ef7736e0-2e82-4575-a57c-d6d7a732f69b",
   "metadata": {},
   "outputs": [
    {
     "data": {
      "text/plain": [
       "(11811.0, 13138.0)"
      ]
     },
     "execution_count": 290,
     "metadata": {},
     "output_type": "execute_result"
    }
   ],
   "source": [
    "np.array(bids).dot(alg.get_choices()), prob.value"
   ]
  },
  {
   "cell_type": "code",
   "execution_count": 291,
   "id": "1e2c90c0-141b-4e57-80c7-932ff7bb3663",
   "metadata": {},
   "outputs": [],
   "source": [
    "class OneTimeLearner:\n",
    "\n",
    "    def __init__(self, epsilon, n, b):\n",
    "        self.epsilon = epsilon\n",
    "        self.n = n\n",
    "        self.b = deepcopy(b)\n",
    "        self.pi = []\n",
    "        self.a = []\n",
    "        self.x = []\n",
    "        self.t = 0\n",
    "        self.s = int(epsilon * n)\n",
    "        self.p_hat = None\n",
    "        self.allocation_check_rhs = deepcopy(b)\n",
    "\n",
    "    def process_input(self, new_pi, new_a):\n",
    "        \n",
    "        # increment t and add new pi and a values\n",
    "        self.t += 1\n",
    "        self.pi.append(new_pi)\n",
    "        self.a.append(new_a)\n",
    "\n",
    "        if self.t <= self.s:\n",
    "            new_x = 0\n",
    "            if self.t == self.s:\n",
    "                # solve LP to find p_hat using learning phase data\n",
    "                \n",
    "                # problem data\n",
    "                cvx_a = np.array(self.a).T\n",
    "                cvx_pi = np.c_[self.pi]\n",
    "                cvx_b = np.c_[self.b]\n",
    "                \n",
    "                # construct the problem\n",
    "                p = cp.Variable((len(self.b), 1))\n",
    "                y = cp.Variable((self.s, 1))\n",
    "                const = (1 - self.epsilon) * self.s / self.n \n",
    "                objective = cp.Minimize(const * cvx_b.T @ p + cp.sum(y))\n",
    "                constraints = [cvx_a.T @ p + y >= cvx_pi, p >= 0, y >= 0]\n",
    "                prob = cp.Problem(objective, constraints)\n",
    "                prob.solve()\n",
    "                self.p_hat = p.value.T.tolist()[0]  # save p\n",
    "        else:            \n",
    "            # determine allocation amount for the current bid\n",
    "            allocation = 0\n",
    "            rhs = 0\n",
    "            for i in range(len(self.b)):\n",
    "                rhs += self.p_hat[i] * self.a[-1][i]\n",
    "            if self.pi[-1] > rhs:\n",
    "                allocation = 1\n",
    "            \n",
    "            # determine whether to allocate towards the new bid \n",
    "            for i in range(len(self.b)):\n",
    "                if allocation * self.a[-1][i] > self.allocation_check_rhs[i]:\n",
    "                    new_x = 0\n",
    "                    break\n",
    "            else:\n",
    "                new_x = allocation\n",
    "\n",
    "        self.x.append(new_x)\n",
    "        for i in range(len(self.b)):\n",
    "            self.allocation_check_rhs[i] -= self.a[-1][i] * self.x[-1]\n",
    "        return new_x\n",
    "    \n",
    "    def get_choices(self):\n",
    "        return self.x"
   ]
  },
  {
   "cell_type": "code",
   "execution_count": 292,
   "id": "8a61f41b-d752-4b07-812d-43126e4be149",
   "metadata": {},
   "outputs": [
    {
     "data": {
      "text/plain": [
       "0.2417340538894809"
      ]
     },
     "execution_count": 292,
     "metadata": {},
     "output_type": "execute_result"
    }
   ],
   "source": [
    "rl_one_time = []\n",
    "\n",
    "for _ in range(500):\n",
    "        \n",
    "    idx = np.random.permutation(N)\n",
    "    \n",
    "    random.shuffle(requests)\n",
    "    random.shuffle(bids)\n",
    "\n",
    "    alg = OneTimeLearner(0.1, N, edge_capacities)\n",
    "    for i in range(N):\n",
    "        alg.process_input(bids[i], requests[i])\n",
    "    rl_one_time.append(1 - np.array(bids).dot(alg.get_choices()) / prob.value)\n",
    "\n",
    "np.average(rl_one_time)"
   ]
  },
  {
   "cell_type": "code",
   "execution_count": 293,
   "id": "1f36f023-7067-487e-9cbf-cb564ed68e0d",
   "metadata": {},
   "outputs": [
    {
     "data": {
      "text/plain": [
       "(11394.0, 13138.0)"
      ]
     },
     "execution_count": 293,
     "metadata": {},
     "output_type": "execute_result"
    }
   ],
   "source": [
    "np.array(bids).dot(alg.get_choices()), prob.value"
   ]
  },
  {
   "cell_type": "code",
   "execution_count": 235,
   "id": "00da9b0b-fcc9-4f95-bb62-d0ba6ba62292",
   "metadata": {},
   "outputs": [
    {
     "data": {
      "image/png": "[encoded data removed]",
      "text/plain": [
       "<Figure size 576x576 with 1 Axes>"
      ]
     },
     "metadata": {},
     "output_type": "display_data"
    }
   ],
   "source": [
    "plt.figure(figsize=(8, 8))\n",
    "\n",
    "pos = nx.spring_layout(G)\n",
    "\n",
    "nx.draw(G, pos, with_labels=True, font_weight='bold', node_size=1200, font_size=18)\n",
    "\n",
    "edge_labels = nx.get_edge_attributes(G, 'capacity')\n",
    "nx.draw_networkx_edge_labels(G, pos, edge_labels=edge_labels, font_size=18)\n",
    "\n",
    "plt.show()"
   ]
  }
 ],
 "metadata": {
  "kernelspec": {
   "display_name": "cu-boulder-venv",
   "language": "python",
   "name": "cu-boulder-venv"
  },
  "language_info": {
   "codemirror_mode": {
    "name": "ipython",
    "version": 3
   },
   "file_extension": ".py",
   "mimetype": "text/x-python",
   "name": "python",
   "nbconvert_exporter": "python",
   "pygments_lexer": "ipython3",
   "version": "3.8.10"
  }
 },
 "nbformat": 4,
 "nbformat_minor": 5
}
