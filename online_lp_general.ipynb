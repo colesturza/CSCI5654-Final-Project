{
 "cells": [
  {
   "cell_type": "code",
   "execution_count": 2,
   "id": "b946d100-295f-4a9d-adee-b6092a92e475",
   "metadata": {},
   "outputs": [],
   "source": [
    "import cvxpy as cp\n",
    "import numpy as np\n",
    "\n",
    "from copy import deepcopy"
   ]
  },
  {
   "cell_type": "code",
   "execution_count": 26,
   "id": "11e63197-454f-48c1-9a33-1e91da9fc72d",
   "metadata": {},
   "outputs": [
    {
     "data": {
      "text/plain": [
       "(array([[0, 1],\n",
       "        [2, 4],\n",
       "        [3, 5],\n",
       "        [4, 3],\n",
       "        [1, 2]]),\n",
       " array([[0, 1],\n",
       "        [2, 4],\n",
       "        [3, 5],\n",
       "        [4, 3],\n",
       "        [1, 2]]))"
      ]
     },
     "execution_count": 26,
     "metadata": {},
     "output_type": "execute_result"
    }
   ],
   "source": [
    "np.array([[0, 2, 3, 4, 1], [1, 4, 5, 3, 2]]).T, np.array([[0, 2, 3, 4, 1], [1, 4, 5, 3, 2]]).T"
   ]
  },
  {
   "cell_type": "code",
   "execution_count": 2,
   "id": "afad109d-7e31-47aa-afdd-04a381e3e897",
   "metadata": {},
   "outputs": [],
   "source": [
    "class OneTimeLearner:\n",
    "\n",
    "    def __init__(self, epsilon, n, b):\n",
    "        self.epsilon = epsilon\n",
    "        self.n = n\n",
    "        self.b = deepcopy(b)\n",
    "        self.f = []\n",
    "        self.g = []\n",
    "        self.x = []\n",
    "        self.t = 0\n",
    "        self.s = int(epsilon * n)\n",
    "        self.p_hat = None\n",
    "        self.allocation_check_rhs = deepcopy(b)\n",
    "\n",
    "    def process_input(self, new_f, new_g):\n",
    "        \n",
    "        # increment t and add new pi and a values\n",
    "        self.t += 1\n",
    "        self.f.append(new_f)\n",
    "        self.g.append(new_g)\n",
    "\n",
    "        if self.t <= self.s:\n",
    "            new_x = 0\n",
    "            if self.t == self.s:\n",
    "                # solve LP to find p_hat using learning phase data\n",
    "                \n",
    "                # problem data\n",
    "                cvx_g = np.array(self.g)\n",
    "                cvx_f = np.array(self.f)\n",
    "                cvx_b = np.c_[self.b]\n",
    "                \n",
    "                # construct the problem\n",
    "                p = cp.Variable((len(self.b), 1))\n",
    "                y = cp.Variable((self.s, 1))\n",
    "                \n",
    "                constraints = []\n",
    "                for i in range(self.s):\n",
    "                    total = np.ones_like(cvx_f[0])\n",
    "                    for j in range(len(self.b)):\n",
    "                        total += cvx_g[j][i] * p[j]\n",
    "                    constraints.append(total <= cvx_f[i])\n",
    "                \n",
    "                constraints += [p >= 0, y >= 0]\n",
    "                \n",
    "                const = (1 - self.epsilon) * self.s / self.n \n",
    "                objective = cp.Minimize(const * cvx_b.T @ p + cp.sum(y))\n",
    "                prob = cp.Problem(objective, constraints)\n",
    "                prob.solve()\n",
    "                self.p_hat = p.value.T.tolist()[0]  # save p\n",
    "        else:            \n",
    "            # determine allocation amount for the current bid\n",
    "            allocation = np.zeros((s))\n",
    "            rhs = 0\n",
    "            for i in range(len(self.b)):\n",
    "                rhs += self.p_hat[i] * self.g[-1][i]\n",
    "            if np.all(self.f[-1] > rhs):\n",
    "                allocation = 1\n",
    "            \n",
    "            # determine whether to allocate towards the new bid \n",
    "            for i in range(len(self.b)):\n",
    "                if allocation * self.a[-1][i] > self.allocation_check_rhs[i]:\n",
    "                    new_x = 0\n",
    "                    break\n",
    "            else:\n",
    "                new_x = allocation\n",
    "\n",
    "        self.x.append(new_x)\n",
    "        for i in range(len(self.b)):\n",
    "            self.allocation_check_rhs[i] -= self.a[-1][i] * self.x[-1]\n",
    "        return new_x\n",
    "    \n",
    "    def get_x(self):\n",
    "        return self.x"
   ]
  },
  {
   "cell_type": "code",
   "execution_count": 3,
   "id": "e1e856c8-b434-40b4-8f53-53d180b237c2",
   "metadata": {},
   "outputs": [],
   "source": [
    "class DynamicLearner:\n",
    "\n",
    "    def __init__(self, epsilon, n, b):\n",
    "        self.epsilon = epsilon\n",
    "        self.n = n\n",
    "        self.b = deepcopy(b)\n",
    "        self.pi = []\n",
    "        self.a = []\n",
    "        self.x = []\n",
    "        self.t = 0\n",
    "        self.s = int(epsilon * n)\n",
    "        self.p_hat = None\n",
    "        self.allocation_check_rhs = deepcopy(b)\n",
    "        self.r = np.floor(np.log2(self.s / self.epsilon / self.n)) - 1\n",
    "\n",
    "    def process_input(self, new_pi, new_a):\n",
    "        # increment t and add new pi and a values\n",
    "        self.t += 1\n",
    "        self.pi.append(new_pi)\n",
    "        self.a.append(new_a)\n",
    "        \n",
    "        # print(self.allocation_check_rhs)\n",
    "\n",
    "        if self.t <= self.s:\n",
    "            new_x = 0\n",
    "        else:        \n",
    "            \n",
    "            # check if we need to update p_hat\n",
    "            if 2 ** (self.r + 1) * self.epsilon * self.n < self.t:\n",
    "                self.r += 1\n",
    "                # solve LP to find p_hat using learning phase data           \n",
    "                # problem data\n",
    "                cvx_a = np.array(self.a).T\n",
    "                cvx_pi = np.c_[self.pi]\n",
    "                cvx_b = np.c_[self.b]\n",
    "\n",
    "                # construct the problem\n",
    "                p = cp.Variable((len(self.b), 1))\n",
    "                y = cp.Variable((self.t, 1))\n",
    "                const = (1 - self.epsilon * np.sqrt(self.n  / self.t)) * self.t / self.n \n",
    "                objective = cp.Minimize(const * cvx_b.T @ p + cp.sum(y))\n",
    "                constraints = [cvx_a.T @ p + y >= cvx_pi, p >= 0, y >= 0]\n",
    "                prob = cp.Problem(objective, constraints)\n",
    "                prob.solve()\n",
    "                self.p_hat = p.value.T.tolist()[0]  # save p\n",
    "\n",
    "            # determine allocation amount for the current bid\n",
    "            allocation = 0\n",
    "            rhs = 0\n",
    "            for i in range(len(self.b)):\n",
    "                rhs += self.p_hat[i] * self.a[-1][i]\n",
    "            if self.pi[-1] > rhs:\n",
    "                allocation = 1\n",
    "\n",
    "            # determine whether to allocate towards the new bid \n",
    "            for i in range(len(self.b)):\n",
    "                if allocation * self.a[-1][i] > self.allocation_check_rhs[i]:\n",
    "                    new_x = 0\n",
    "                    break\n",
    "            else:\n",
    "                new_x = allocation\n",
    "            \n",
    "        # update choices made\n",
    "        self.x.append(new_x)\n",
    "        for i in range(len(self.b)):\n",
    "            self.allocation_check_rhs[i] -= self.a[-1][i] * self.x[-1]\n",
    "\n",
    "        return new_x\n",
    "    \n",
    "    def get_choices(self):\n",
    "        return self.x"
   ]
  },
  {
   "cell_type": "code",
   "execution_count": 122,
   "id": "6183eea6-4a0e-4e6e-89e0-5a445538263a",
   "metadata": {},
   "outputs": [
    {
     "data": {
      "text/plain": [
       "117.03653309668891"
      ]
     },
     "execution_count": 122,
     "metadata": {},
     "output_type": "execute_result"
    }
   ],
   "source": [
    "N = 100\n",
    "k = 10\n",
    "b = [1000] * 5\n",
    "\n",
    "# problem data\n",
    "\n",
    "\n",
    "# N = 100\n",
    "# k = 10\n",
    "# b = [1000] * 5\n",
    "\n",
    "# # problem data\n",
    "\n",
    "\n",
    "# top = np.array([np.random.choice([0, 1], p=[1 - 0.5 ** 3, 0.5 ** 3], size=(N * k)) for _ in range(len(b))])\n",
    "\n",
    "# vals = np.array([np.random.rand(N * k) for _ in range(len(b))]) * top\n",
    "\n",
    "# cvx_fs = np.zeros((k, N))\n",
    "# for i in range(N):\n",
    "#     cvx_fs[:, i] = np.sum(vals[:, i*k:i*k+k], axis=0)\n",
    "    \n",
    "# bot = np.zeros((N, N * k))\n",
    "# for i in range(N):\n",
    "#     bot[i, i*k:i*k+k] = np.ones(k)\n",
    "\n",
    "# cvx_gs = np.concatenate([top, bot], axis=0)\n",
    "\n",
    "# cvx_b = np.c_[b]\n",
    "\n",
    "# x = cp.Variable((k, N))\n",
    "# constraints = []\n",
    "\n",
    "# for j in range(N):\n",
    "#     constraints.append(cp.sum(x[:, j]) == 1)\n",
    "#     constraints.append(x >= 0)\n",
    "        \n",
    "\n",
    "\n",
    "cvx_b = np.c_[b]\n",
    "cvx_gs = np.array([[np.random.choice([0, 1], p=[1 - 0.5 ** 3, 0.5 ** 3], size=k) for _ in range(len(b))] for _ in range(N)])\n",
    "cvx_fs = np.sum(np.random.rand(N, len(b), k) * cvx_gs, axis=1)\n",
    "\n",
    "x = cp.Variable((N, k))\n",
    "constraints = []\n",
    "for i in range(len(b)):\n",
    "    for j in range(N):\n",
    "        constraints.append(cp.sum(cp.multiply(cvx_gs[j][i], x[j])) <= cvx_b[i])\n",
    "\n",
    "for j in range(N):\n",
    "    constraints.append(cp.sum(x[j]) == 1)\n",
    "    constraints.append(x[j] >= 0)\n",
    "        \n",
    "objective = cp.Maximize(cp.sum([cp.sum(cp.multiply(x[j], cvx_fs[j])) for j in range(N)]))\n",
    "prob = cp.Problem(objective, constraints)\n",
    "prob.solve()\n",
    "prob.value"
   ]
  },
  {
   "cell_type": "code",
   "execution_count": 126,
   "id": "4a07f18f-405e-4669-9a66-9d3ca99807c3",
   "metadata": {},
   "outputs": [
    {
     "data": {
      "text/plain": [
       "array([0.        , 0.        , 0.76135404, 1.31459793, 0.        ,\n",
       "       0.        , 0.        , 0.        , 0.69650183, 0.79822257])"
      ]
     },
     "execution_count": 126,
     "metadata": {},
     "output_type": "execute_result"
    }
   ],
   "source": [
    "cvx_fs[0]"
   ]
  },
  {
   "cell_type": "code",
   "execution_count": 4,
   "id": "2823def0-01e9-41df-a0c7-a21c6506de48",
   "metadata": {},
   "outputs": [],
   "source": [
    "N = 10_000\n",
    "b = [1000] * 5\n",
    "a = np.array([np.random.choice([0, 1], p=[1 - 0.5 ** 3, 0.5 ** 3], size=N) for _ in b])\n",
    "pi = np.sum(np.random.rand(5, N) * a, axis=0)"
   ]
  },
  {
   "cell_type": "code",
   "execution_count": 5,
   "id": "8b392bec-634b-4bb3-a660-c7d50132364b",
   "metadata": {},
   "outputs": [
    {
     "data": {
      "text/plain": [
       "2934.2336501641976"
      ]
     },
     "execution_count": 5,
     "metadata": {},
     "output_type": "execute_result"
    }
   ],
   "source": [
    "# problem data\n",
    "\n",
    "cvx_b = np.c_[b]\n",
    "cvx_pi = np.c_[pi]\n",
    "\n",
    "# construct the problem\n",
    "x = cp.Variable((N, 1))\n",
    "objective = cp.Maximize(cvx_pi.T @ x)\n",
    "constraints = [a @ x <= cvx_b, x >= 0, x <= 1]\n",
    "prob = cp.Problem(objective, constraints)\n",
    "prob.solve()\n",
    "prob.value"
   ]
  },
  {
   "cell_type": "code",
   "execution_count": 6,
   "id": "928906d4-37ea-4aea-9124-a485dc0c8def",
   "metadata": {},
   "outputs": [
    {
     "name": "stdout",
     "output_type": "stream",
     "text": [
      "[0.26128592]\n",
      "[0.17974676]\n",
      "[0.15187476]\n",
      "[0.08160301]\n",
      "[0.06744577]\n",
      "[0.07612494]\n",
      "[0.12206905]\n",
      "[0.10783678]\n",
      "[0.17587556]\n",
      "[0.18836403]\n"
     ]
    }
   ],
   "source": [
    "for eps in [0.2, 0.15, 0.1, 0.07, 0.06, 0.05, 0.04, 0.03, 0.02, 0.01]:\n",
    "    alg = OneTimeLearner(eps, N, b)\n",
    "    for i in range(N):\n",
    "        alg.process_input(pi[i], list(a[:, i].T))\n",
    "    print(1 - pi.T @ np.c_[alg.get_x()] / prob.value)"
   ]
  },
  {
   "cell_type": "code",
   "execution_count": 7,
   "id": "f8c6f3f1-e9c1-4e81-99f6-0628ab8159e9",
   "metadata": {},
   "outputs": [
    {
     "name": "stdout",
     "output_type": "stream",
     "text": [
      "[0.35109951]\n",
      "[0.25826292]\n",
      "[0.17365804]\n",
      "[0.10431335]\n",
      "[0.09101467]\n",
      "[0.07995562]\n",
      "[0.06440963]\n",
      "[0.05483]\n",
      "[0.04634147]\n",
      "[0.03985471]\n"
     ]
    }
   ],
   "source": [
    "for eps in [0.2, 0.15, 0.1, 0.07, 0.06, 0.05, 0.04, 0.03, 0.02, 0.01]:\n",
    "    alg = DynamicLearner(eps, N, b)\n",
    "    for i in range(N):\n",
    "        alg.process_input(pi[i], list(a[:, i].T))\n",
    "    print(1 - pi.T @ np.c_[alg.get_choices()] / prob.value)"
   ]
  },
  {
   "cell_type": "code",
   "execution_count": 8,
   "id": "0623bc22-894d-4dbb-8ba9-f650d7ee0abe",
   "metadata": {},
   "outputs": [
    {
     "name": "stdout",
     "output_type": "stream",
     "text": [
      "Done 0.2\n",
      "Done 0.15\n",
      "Done 0.1\n",
      "Done 0.07\n",
      "Done 0.06\n",
      "Done 0.05\n",
      "Done 0.04\n",
      "Done 0.03\n",
      "Done 0.02\n",
      "Done 0.01\n"
     ]
    }
   ],
   "source": [
    "one_time_rl = []\n",
    "dynamic_rl = []\n",
    "\n",
    "for eps in [0.2, 0.15, 0.1, 0.07, 0.06, 0.05, 0.04, 0.03, 0.02, 0.01]:\n",
    "    \n",
    "    one_time_vals = []\n",
    "    dynamic_vals = []\n",
    "    \n",
    "    for _ in range(100):\n",
    "        \n",
    "        idx = np.random.permutation(N)\n",
    "        \n",
    "        a = a[:, idx]\n",
    "        pi = pi[idx]\n",
    "\n",
    "        alg = OneTimeLearner(eps, N, b)\n",
    "        for i in range(N):\n",
    "            alg.process_input(pi[i], list(a[:, i].T))\n",
    "        one_time_vals.append(1 - pi.T @ np.c_[alg.get_x()] / prob.value)\n",
    "\n",
    "        alg = DynamicLearner(eps, N, b)\n",
    "        for i in range(N):\n",
    "            alg.process_input(pi[i], list(a[:, i].T))\n",
    "        dynamic_vals.append(1 - pi.T @ np.c_[alg.get_choices()] / prob.value)\n",
    "    \n",
    "    print(\"Done\", eps)\n",
    "    one_time_rl.append(np.average(one_time_vals))\n",
    "    dynamic_rl.append(np.average(dynamic_vals))"
   ]
  },
  {
   "cell_type": "code",
   "execution_count": 9,
   "id": "fd020623-83a2-47dc-8f2e-c88cac38201c",
   "metadata": {},
   "outputs": [
    {
     "data": {
      "text/plain": [
       "[0.28594397592486454,\n",
       " 0.21696781970731954,\n",
       " 0.14930099686011297,\n",
       " 0.111321160308105,\n",
       " 0.10195762822701222,\n",
       " 0.1008645894418271,\n",
       " 0.10197736473818172,\n",
       " 0.10291371452934467,\n",
       " 0.11001212942865085,\n",
       " 0.14026465402166843]"
      ]
     },
     "execution_count": 9,
     "metadata": {},
     "output_type": "execute_result"
    }
   ],
   "source": [
    "one_time_rl"
   ]
  },
  {
   "cell_type": "code",
   "execution_count": 10,
   "id": "b33c45f2-17dc-44e2-85b6-832bea7d2de8",
   "metadata": {},
   "outputs": [
    {
     "data": {
      "text/plain": [
       "[0.3621559131151843,\n",
       " 0.27929351856691775,\n",
       " 0.18739749565794062,\n",
       " 0.13383432650309446,\n",
       " 0.11483926052655309,\n",
       " 0.09537514053720189,\n",
       " 0.07760910287309869,\n",
       " 0.05754418778360175,\n",
       " 0.04244410664203694,\n",
       " 0.02833854217421432]"
      ]
     },
     "execution_count": 10,
     "metadata": {},
     "output_type": "execute_result"
    }
   ],
   "source": [
    "dynamic_rl"
   ]
  },
  {
   "cell_type": "code",
   "execution_count": 59,
   "id": "28d000f6-16b7-4d51-af7a-88f5ef8c4234",
   "metadata": {},
   "outputs": [],
   "source": [
    "import matplotlib.pyplot as plt\n",
    "plt.rcParams.update({'font.size': 26})"
   ]
  },
  {
   "cell_type": "code",
   "execution_count": 60,
   "id": "536790f2-4e1b-4313-9cbd-facd48523769",
   "metadata": {},
   "outputs": [
    {
     "data": {
      "image/png": "[encoded data removed]",
      "text/plain": [
       "<Figure size 1152x432 with 1 Axes>"
      ]
     },
     "metadata": {
      "needs_background": "light"
     },
     "output_type": "display_data"
    }
   ],
   "source": [
    "plt.style.use('_mpl-gallery')\n",
    "\n",
    "epsilons = [0.2, 0.15, 0.1, 0.07, 0.06, 0.05, 0.04, 0.03, 0.02, 0.01]\n",
    "xs = range(len(epsilons), 0, -1)\n",
    "\n",
    "# plot\n",
    "fig, ax = plt.subplots(figsize=(16, 6))\n",
    "\n",
    "ax.plot(xs, dynamic_rl, \"o-\", linewidth=2.0, label=\"Dynamic Learning Algorithm\")\n",
    "ax.plot(xs, one_time_rl, \"o-\", linewidth=2.0, label=\"One-Time Learning Algorithm\")\n",
    "\n",
    "ax.set(xticks=xs, \n",
    "       xticklabels=epsilons,\n",
    "       title=\"Relative Loss of Online Algorithms\", \n",
    "       xlabel=r\"$\\epsilon$\", \n",
    "       ylabel=\"Relative Loss\",\n",
    ")\n",
    "\n",
    "ax.legend()\n",
    "\n",
    "plt.show()"
   ]
  },
  {
   "cell_type": "code",
   "execution_count": null,
   "id": "83f0af2b-0d08-4757-abd5-443c285f191a",
   "metadata": {},
   "outputs": [],
   "source": []
  }
 ],
 "metadata": {
  "kernelspec": {
   "display_name": "cu-boulder-venv",
   "language": "python",
   "name": "cu-boulder-venv"
  },
  "language_info": {
   "codemirror_mode": {
    "name": "ipython",
    "version": 3
   },
   "file_extension": ".py",
   "mimetype": "text/x-python",
   "name": "python",
   "nbconvert_exporter": "python",
   "pygments_lexer": "ipython3",
   "version": "3.8.10"
  }
 },
 "nbformat": 4,
 "nbformat_minor": 5
}
